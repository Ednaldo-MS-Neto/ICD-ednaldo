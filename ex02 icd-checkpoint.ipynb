{
 "cells": [
  {
   "cell_type": "code",
   "execution_count": 6,
   "metadata": {},
   "outputs": [],
   "source": [
    "#Aluno:Ednaldo Martins Da Silva Neto \n",
    "#EX 02 ICD\n",
    "import random"
   ]
  },
  {
   "cell_type": "code",
   "execution_count": 16,
   "metadata": {},
   "outputs": [],
   "source": [
    "def generate_passowrd(n_chars, use_numbers=True, use_special_chars=True):\n",
    "    senha = \"\"\n",
    "    alfabeto = ['a','b','c','d','e','f','g','h','i','j','k','l','m','n','o','p','q','r','s','t','u','v','w','x','y','z']\n",
    "    alfabetoM = ['A','B','C','D','E','F','G','H','I','J','K','L','M','N','O','P','Q','R','S','T','U','V','W','X','Y','Z']\n",
    "    numeros = [1,2,3,4,5,6,7,8,9,0]\n",
    "    especiais = [\"!\",'#','%','&','*','@','?']\n",
    "    alfabeto=alfabeto+alfabetoM\n",
    "    if(use_special_chars == True):\n",
    "        alfabeto = alfabeto + especiais\n",
    "        \n",
    "    if(use_numbers == True):\n",
    "        alfabeto = alfabeto + numeros\n",
    "        \n",
    "    for i in range(n_chars):\n",
    "        escolhido = random.choice(alfabeto)\n",
    "        senha = senha + str(escolhido)\n",
    "    return(senha)\n",
    "        "
   ]
  },
  {
   "cell_type": "code",
   "execution_count": 17,
   "metadata": {},
   "outputs": [
    {
     "name": "stdout",
     "output_type": "stream",
     "text": [
      "2Poker7WMx\n"
     ]
    }
   ],
   "source": [
    "print(generate_passowrd(10))"
   ]
  },
  {
   "cell_type": "code",
   "execution_count": 18,
   "metadata": {},
   "outputs": [
    {
     "name": "stdout",
     "output_type": "stream",
     "text": [
      "DiQ%RtOX?R\n"
     ]
    }
   ],
   "source": [
    "print(generate_passowrd(10, use_numbers=False))"
   ]
  },
  {
   "cell_type": "code",
   "execution_count": 19,
   "metadata": {},
   "outputs": [
    {
     "name": "stdout",
     "output_type": "stream",
     "text": [
      "OgjwvonsRD\n"
     ]
    }
   ],
   "source": [
    "print(generate_passowrd(10, use_numbers=False, use_special_chars=False))"
   ]
  }
 ],
 "metadata": {
  "kernelspec": {
   "display_name": "Python 3",
   "language": "python",
   "name": "python3"
  },
  "language_info": {
   "codemirror_mode": {
    "name": "ipython",
    "version": 3
   },
   "file_extension": ".py",
   "mimetype": "text/x-python",
   "name": "python",
   "nbconvert_exporter": "python",
   "pygments_lexer": "ipython3",
   "version": "3.8.3"
  }
 },
 "nbformat": 4,
 "nbformat_minor": 4
}
